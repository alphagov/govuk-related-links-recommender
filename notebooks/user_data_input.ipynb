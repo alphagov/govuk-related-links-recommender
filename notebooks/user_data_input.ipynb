{
 "cells": [
  {
   "cell_type": "code",
   "execution_count": 18,
   "metadata": {},
   "outputs": [],
   "source": [
    "import pandas as pd\n",
    "import os\n",
    "import numpy as np\n",
    "import logging\n",
    "import sys\n",
    "from datetime import datetime, timedelta"
   ]
  },
  {
   "cell_type": "markdown",
   "metadata": {},
   "source": [
    "### Load environment vars and directories"
   ]
  },
  {
   "cell_type": "code",
   "execution_count": 11,
   "metadata": {},
   "outputs": [],
   "source": [
    "KEY_DIR = os.path.join(\"/Users/felisialoukou/Documents/\",\"govuk-network-data\", \"key\")\n",
    "KEY_PATH = os.path.join(KEY_DIR, os.listdir(KEY_DIR)[0])\n",
    "PROJECT_ID = \"govuk-bigquery-analytics\""
   ]
  },
  {
   "cell_type": "markdown",
   "metadata": {},
   "source": [
    "#### Logging for `pandas_gbq`"
   ]
  },
  {
   "cell_type": "code",
   "execution_count": 12,
   "metadata": {},
   "outputs": [],
   "source": [
    "logger = logging.getLogger('pandas_gbq')\n",
    "logger.setLevel(logging.DEBUG)\n",
    "logger.addHandler(logging.StreamHandler(stream=sys.stdout))"
   ]
  },
  {
   "cell_type": "markdown",
   "metadata": {},
   "source": [
    "# Extract page-hit only user journeys for 2-3 weeks back\n",
    "8.8 GB\n",
    "### Define date range\n",
    "    > 3 wks before, up to current date"
   ]
  },
  {
   "cell_type": "code",
   "execution_count": 37,
   "metadata": {},
   "outputs": [
    {
     "name": "stdout",
     "output_type": "stream",
     "text": [
      "2019-04-18 12:07:19.967568\n",
      "20190327 20190417\n"
     ]
    }
   ],
   "source": [
    "N_weeks = 3\n",
    "yesterday = 1\n",
    "N_days = (N_weeks*7) + yesterday\n",
    "\n",
    "start = (datetime.now() - timedelta(days=N_days)).date().strftime(\"%Y%m%d\")\n",
    "end = (datetime.now() - timedelta(days=yesterday)).date().strftime(\"%Y%m%d\")\n",
    "\n",
    "print(datetime.now())\n",
    "print(start, end)"
   ]
  },
  {
   "cell_type": "code",
   "execution_count": 58,
   "metadata": {},
   "outputs": [
    {
     "data": {
      "text/plain": [
       "'_20190327_20190327_'"
      ]
     },
     "execution_count": 58,
     "metadata": {},
     "output_type": "execute_result"
    }
   ],
   "source": [
    "daterange = \"_{}_{}_\".format(start, end)\n",
    "daterange"
   ]
  },
  {
   "cell_type": "code",
   "execution_count": null,
   "metadata": {},
   "outputs": [],
   "source": [
    "## Query"
   ]
  },
  {
   "cell_type": "code",
   "execution_count": 59,
   "metadata": {},
   "outputs": [],
   "source": [
    "query = \"\"\"SELECT\n",
    "  COUNT(*) AS Occurrences,\n",
    "  PageSeq_Length,\n",
    "  PageSequence,\n",
    "  CIDSequence\n",
    "FROM (\n",
    "  SELECT\n",
    "    *\n",
    "  FROM (\n",
    "    SELECT\n",
    "      CONCAT(fullVisitorId,\"-\",CAST(visitId AS STRING),\"-\",CAST(visitNumber AS STRING)) AS sessionId,\n",
    "      STRING_AGG(IF(htype = 'PAGE',\n",
    "          pagePath,\n",
    "          NULL),\">>\") OVER (PARTITION BY fullVisitorId, visitId, visitStartTime ORDER BY hitNumber ROWS BETWEEN UNBOUNDED PRECEDING AND UNBOUNDED FOLLOWING ) AS PageSequence,\n",
    "       STRING_AGG(IF(htype = 'PAGE',\n",
    "          content_id,\n",
    "          NULL),\">>\") OVER (PARTITION BY fullVisitorId, visitId, visitStartTime ORDER BY hitNumber ROWS BETWEEN UNBOUNDED PRECEDING AND UNBOUNDED FOLLOWING ) AS CIDSequence,\n",
    "      SUM(IF(htype='PAGE',\n",
    "          1,\n",
    "          0)) OVER (PARTITION BY fullVisitorId, visitId, visitStartTime ORDER BY hitNumber ROWS BETWEEN UNBOUNDED PRECEDING AND UNBOUNDED FOLLOWING ) AS PageSeq_Length\n",
    "    FROM (\n",
    "      SELECT\n",
    "        fullVisitorId,\n",
    "        visitId,\n",
    "        visitNumber,\n",
    "        visitStartTime,\n",
    "        hits.page.pagePath AS pagePath,\n",
    "        hits.hitNumber AS hitNumber,\n",
    "        hits.type AS htype,\n",
    "        (\n",
    "        SELECT\n",
    "          value\n",
    "        FROM\n",
    "          hits.customDimensions\n",
    "        WHERE\n",
    "          index=4) AS content_id,\n",
    "        (\n",
    "        SELECT\n",
    "          value\n",
    "        FROM\n",
    "          hits.customDimensions\n",
    "        WHERE\n",
    "          index=2) AS document_type\n",
    "      FROM\n",
    "        `govuk-bigquery-analytics.87773428.ga_sessions_*` AS sessions\n",
    "      CROSS JOIN\n",
    "        UNNEST(sessions.hits) AS hits\n",
    "      WHERE\n",
    "        _TABLE_SUFFIX BETWEEN '_start_'\n",
    "        AND '_end_' )\n",
    "    WHERE\n",
    "      pagePath != '/'\n",
    "      AND document_type NOT IN (\n",
    "        'document_collection',\n",
    "        'finder',\n",
    "        'homepage',\n",
    "        'license_finder',\n",
    "        'mainstream_browse_page',\n",
    "        'organisation',\n",
    "        'search',\n",
    "        'service_manual_homepage',\n",
    "        'service_manual_topic',\n",
    "        'services_and_information',\n",
    "        'taxon',\n",
    "        'topic',\n",
    "        'topical_event',\n",
    "        'fatality_notice',\n",
    "        'contact',\n",
    "        'service_sign_in',\n",
    "        'html_publication',\n",
    "        'calculator',\n",
    "        'completed_transaction' )\n",
    "      AND content_id NOT IN ( '00000000-0000-0000-0000-000000000000',\n",
    "        '[object Object]'))\n",
    "  WHERE\n",
    "    PageSeq_Length >1\n",
    "  GROUP BY\n",
    "    sessionId,\n",
    "    PageSequence,\n",
    "    CIDSequence,\n",
    "    PageSeq_Length)\n",
    "GROUP BY\n",
    "  PageSequence,\n",
    "  CIDSequence,\n",
    "  PageSeq_Length\"\"\""
   ]
  },
  {
   "cell_type": "code",
   "execution_count": 60,
   "metadata": {},
   "outputs": [
    {
     "data": {
      "text/plain": [
       "'SELECT\\n  COUNT(*) AS Occurrences,\\n  PageSeq_Length,\\n  PageSequence,\\n  CIDSequence\\nFROM (\\n  SELECT\\n    *\\n  FROM (\\n    SELECT\\n      CONCAT(fullVisitorId,\"-\",CAST(visitId AS STRING),\"-\",CAST(visitNumber AS STRING)) AS sessionId,\\n      STRING_AGG(IF(htype = \\'PAGE\\',\\n          pagePath,\\n          NULL),\">>\") OVER (PARTITION BY fullVisitorId, visitId, visitStartTime ORDER BY hitNumber ROWS BETWEEN UNBOUNDED PRECEDING AND UNBOUNDED FOLLOWING ) AS PageSequence,\\n       STRING_AGG(IF(htype = \\'PAGE\\',\\n          content_id,\\n          NULL),\">>\") OVER (PARTITION BY fullVisitorId, visitId, visitStartTime ORDER BY hitNumber ROWS BETWEEN UNBOUNDED PRECEDING AND UNBOUNDED FOLLOWING ) AS CIDSequence,\\n      SUM(IF(htype=\\'PAGE\\',\\n          1,\\n          0)) OVER (PARTITION BY fullVisitorId, visitId, visitStartTime ORDER BY hitNumber ROWS BETWEEN UNBOUNDED PRECEDING AND UNBOUNDED FOLLOWING ) AS PageSeq_Length\\n    FROM (\\n      SELECT\\n        fullVisitorId,\\n        visitId,\\n        visitNumber,\\n        visitStartTime,\\n        hits.page.pagePath AS pagePath,\\n        hits.hitNumber AS hitNumber,\\n        hits.type AS htype,\\n        (\\n        SELECT\\n          value\\n        FROM\\n          hits.customDimensions\\n        WHERE\\n          index=4) AS content_id,\\n        (\\n        SELECT\\n          value\\n        FROM\\n          hits.customDimensions\\n        WHERE\\n          index=2) AS document_type\\n      FROM\\n        `govuk-bigquery-analytics.87773428.ga_sessions_*` AS sessions\\n      CROSS JOIN\\n        UNNEST(sessions.hits) AS hits\\n      WHERE\\n        _TABLE_SUFFIX BETWEEN \\'20190327\\'\\n        AND \\'20190327\\' )\\n    WHERE\\n      pagePath != \\'/\\'\\n      AND document_type NOT IN (\\n        \\'document_collection\\',\\n        \\'finder\\',\\n        \\'homepage\\',\\n        \\'license_finder\\',\\n        \\'mainstream_browse_page\\',\\n        \\'organisation\\',\\n        \\'search\\',\\n        \\'service_manual_homepage\\',\\n        \\'service_manual_topic\\',\\n        \\'services_and_information\\',\\n        \\'taxon\\',\\n        \\'topic\\',\\n        \\'topical_event\\',\\n        \\'fatality_notice\\',\\n        \\'contact\\',\\n        \\'service_sign_in\\',\\n        \\'html_publication\\',\\n        \\'calculator\\',\\n        \\'completed_transaction\\' )\\n      AND content_id NOT IN ( \\'00000000-0000-0000-0000-000000000000\\',\\n        \\'[object Object]\\'))\\n  WHERE\\n    PageSeq_Length >1\\n  GROUP BY\\n    sessionId,\\n    PageSequence,\\n    CIDSequence,\\n    PageSeq_Length)\\nGROUP BY\\n  PageSequence,\\n  CIDSequence,\\n  PageSeq_Length'"
      ]
     },
     "execution_count": 60,
     "metadata": {},
     "output_type": "execute_result"
    }
   ],
   "source": [
    "query = query.replace(\"_start_\", start).replace(\"_end_\", end)\n",
    "query"
   ]
  },
  {
   "cell_type": "markdown",
   "metadata": {},
   "source": [
    "# Extract data from BigQuery"
   ]
  },
  {
   "cell_type": "code",
   "execution_count": 56,
   "metadata": {},
   "outputs": [
    {
     "name": "stdout",
     "output_type": "stream",
     "text": [
      "Requesting query... \n",
      "Query running...\n",
      "Job ID: f875a606-d968-4667-99a2-8115efae7808\n",
      "  Elapsed 6.44 s. Waiting...\n",
      "  Elapsed 7.87 s. Waiting...\n",
      "  Elapsed 9.31 s. Waiting...\n",
      "  Elapsed 10.74 s. Waiting...\n",
      "  Elapsed 12.01 s. Waiting...\n",
      "  Elapsed 13.29 s. Waiting...\n",
      "  Elapsed 14.73 s. Waiting...\n",
      "  Elapsed 16.17 s. Waiting...\n",
      "  Elapsed 17.6 s. Waiting...\n",
      "  Elapsed 19.03 s. Waiting...\n",
      "  Elapsed 20.47 s. Waiting...\n",
      "  Elapsed 21.81 s. Waiting...\n",
      "  Elapsed 23.23 s. Waiting...\n",
      "  Elapsed 24.67 s. Waiting...\n",
      "Query done.\n",
      "Processed: 1.5 GB Billed: 1.5 GB\n",
      "Standard price: $0.01 USD\n",
      "\n",
      "Got 1069433 rows.\n",
      "\n",
      "Total time taken 138.99 s.\n",
      "Finished at 2019-04-18 12:25:30.\n"
     ]
    },
    {
     "data": {
      "text/plain": [
       "(1069433, 3)"
      ]
     },
     "execution_count": 56,
     "metadata": {},
     "output_type": "execute_result"
    }
   ],
   "source": [
    "df_in = pd.read_gbq(query,\n",
    "                       project_id=PROJECT_ID,\n",
    "                       reauth=False,\n",
    "                       private_key=KEY_PATH,\n",
    "                       dialect=\"standard\")\n",
    "\n",
    "df_in.shape"
   ]
  },
  {
   "cell_type": "markdown",
   "metadata": {},
   "source": [
    "### Add `Page_List` column"
   ]
  },
  {
   "cell_type": "code",
   "execution_count": null,
   "metadata": {},
   "outputs": [],
   "source": [
    "pagelist = [pageseq.split(\">>\") for pageseq in df_in['PageSequence'].values]\n",
    "df_in['Page_List'] = pagelist"
   ]
  },
  {
   "cell_type": "markdown",
   "metadata": {},
   "source": [
    "### Save out "
   ]
  },
  {
   "cell_type": "code",
   "execution_count": null,
   "metadata": {},
   "outputs": [],
   "source": [
    "bq_dir = os.path.join(os.getenv(\"DATA_DIR\"),\"raw\", \"bq_journey_extract\")\n",
    "# bq_file = os.path.join(bq_dir, \"pageseq_user_journey_\"+date_range+\".csv.gz\")\n",
    "# page_views_file = os.path.join(bq_dir, \"pageviews_\"+date_range+\".csv.gz\")\n",
    "# df_in.to_csv(bq_file, compression=\"gzip\", sep='\\t', index=False)"
   ]
  },
  {
   "cell_type": "code",
   "execution_count": null,
   "metadata": {},
   "outputs": [],
   "source": [
    "### Drop infrequent journeys\n",
    "bq_file_doo = os.path.join(bq_dir, \"pageseq_user_journey\"+date_range+\"doo.csv.gz\")\n",
    "df_in[df_in.Occurrences>1].to_csv(bq_file_doo, compression=\"gzip\", sep='\\t', index=False)"
   ]
  },
  {
   "cell_type": "markdown",
   "metadata": {},
   "source": [
    "# Make network data"
   ]
  },
  {
   "cell_type": "code",
   "execution_count": null,
   "metadata": {},
   "outputs": [],
   "source": []
  }
 ],
 "metadata": {
  "kernelspec": {
   "display_name": "Python 3",
   "language": "python",
   "name": "python3"
  },
  "language_info": {
   "codemirror_mode": {
    "name": "ipython",
    "version": 3
   },
   "file_extension": ".py",
   "mimetype": "text/x-python",
   "name": "python",
   "nbconvert_exporter": "python",
   "pygments_lexer": "ipython3",
   "version": "3.6.0"
  }
 },
 "nbformat": 4,
 "nbformat_minor": 2
}
